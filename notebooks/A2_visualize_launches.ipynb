{
 "cells": [
  {
   "cell_type": "markdown",
   "metadata": {},
   "source": [
    "## Objective\n",
    "1. Visualize the launches in an informative way\n",
    "2. Identify any outlier launches that should be reviewed\n",
    "3. Identify any interesting patterns in the data (seasonality, poorly performing parts)"
   ]
  },
  {
   "cell_type": "markdown",
   "metadata": {},
   "source": [
    "## 1. Visualize the launches in an informative way\n",
    "- The data contains only 5 seconds prior to 15 seconds after launch\n",
    "- I assume the presuption is that something strange might be happening after the zip is launched\n",
    "- Need to detect outlier launches, which would mean that the distance or speed after the launch is not as high as it could be when one accounts for the wind speed"
   ]
  },
  {
   "cell_type": "markdown",
   "metadata": {},
   "source": [
    "### a. load the data into a single dataframe"
   ]
  },
  {
   "cell_type": "code",
   "execution_count": 1,
   "metadata": {},
   "outputs": [],
   "source": [
    "import pandas as pd\n",
    "import re\n",
    "from glob import glob\n",
    "import yaml\n",
    "\n",
    "from sklearn.decomposition import PCA\n",
    "import plotly.plotly as py\n",
    "import plotly.graph_objs as go"
   ]
  },
  {
   "cell_type": "code",
   "execution_count": 2,
   "metadata": {},
   "outputs": [],
   "source": [
    "with open('creds.yaml', 'r') as f:\n",
    "    creds = yaml.load(f)"
   ]
  },
  {
   "cell_type": "code",
   "execution_count": 3,
   "metadata": {},
   "outputs": [],
   "source": [
    "import plotly\n",
    "plotly.tools.set_credentials_file(username=creds['plotly']['username'], \n",
    "                                  api_key=creds['plotly']['apikey'])"
   ]
  },
  {
   "cell_type": "code",
   "execution_count": 4,
   "metadata": {},
   "outputs": [],
   "source": [
    "hires_flight_csv = glob('../data/flight*.csv')"
   ]
  },
  {
   "cell_type": "code",
   "execution_count": 5,
   "metadata": {},
   "outputs": [],
   "source": [
    "reg = '../data/flight_(\\d*)'"
   ]
  },
  {
   "cell_type": "code",
   "execution_count": 6,
   "metadata": {},
   "outputs": [],
   "source": [
    "hires_flight_data = pd.DataFrame()\n",
    "for csv in hires_flight_csv:\n",
    "    csv_data = pd.read_csv(csv)\n",
    "    flight_number = re.match(reg, csv).group(1)\n",
    "    csv_data['flight_id'] = int(flight_number)\n",
    "    hires_flight_data = pd.concat([hires_flight_data, csv_data])"
   ]
  },
  {
   "cell_type": "markdown",
   "metadata": {},
   "source": [
    "### b. Check that the range of values for the time after launch is the same\n",
    "- This is important because if the distance traveled is the metric, then the time after the launch needs to be the same"
   ]
  },
  {
   "cell_type": "code",
   "execution_count": 7,
   "metadata": {},
   "outputs": [
    {
     "data": {
      "text/plain": [
       "Index(['seconds_since_launch', 'position_ned_m[0]', 'position_ned_m[1]',\n",
       "       'position_ned_m[2]', 'velocity_ned_mps[0]', 'velocity_ned_mps[1]',\n",
       "       'velocity_ned_mps[2]', 'accel_body_mps2[0]', 'accel_body_mps2[1]',\n",
       "       'accel_body_mps2[2]', 'orientation_rad[0]', 'orientation_rad[1]',\n",
       "       'orientation_rad[2]', 'angular_rate_body_radps[0]',\n",
       "       'angular_rate_body_radps[1]', 'angular_rate_body_radps[2]',\n",
       "       'position_sigma_ned_m[0]', 'position_sigma_ned_m[1]',\n",
       "       'position_sigma_ned_m[2]', 'flight_id'],\n",
       "      dtype='object')"
      ]
     },
     "execution_count": 7,
     "metadata": {},
     "output_type": "execute_result"
    }
   ],
   "source": [
    "hires_flight_data.columns"
   ]
  },
  {
   "cell_type": "code",
   "execution_count": 8,
   "metadata": {},
   "outputs": [],
   "source": [
    "max_time_after_launch = hires_flight_data.groupby('flight_id').\\\n",
    "                                          agg({'seconds_since_launch':'max'})"
   ]
  },
  {
   "cell_type": "code",
   "execution_count": 9,
   "metadata": {},
   "outputs": [
    {
     "data": {
      "text/html": [
       "<div>\n",
       "<style scoped>\n",
       "    .dataframe tbody tr th:only-of-type {\n",
       "        vertical-align: middle;\n",
       "    }\n",
       "\n",
       "    .dataframe tbody tr th {\n",
       "        vertical-align: top;\n",
       "    }\n",
       "\n",
       "    .dataframe thead th {\n",
       "        text-align: right;\n",
       "    }\n",
       "</style>\n",
       "<table border=\"1\" class=\"dataframe\">\n",
       "  <thead>\n",
       "    <tr style=\"text-align: right;\">\n",
       "      <th></th>\n",
       "      <th>seconds_since_launch</th>\n",
       "    </tr>\n",
       "  </thead>\n",
       "  <tbody>\n",
       "    <tr>\n",
       "      <th>count</th>\n",
       "      <td>447.000000</td>\n",
       "    </tr>\n",
       "    <tr>\n",
       "      <th>mean</th>\n",
       "      <td>14.995431</td>\n",
       "    </tr>\n",
       "    <tr>\n",
       "      <th>std</th>\n",
       "      <td>0.000100</td>\n",
       "    </tr>\n",
       "    <tr>\n",
       "      <th>min</th>\n",
       "      <td>14.995020</td>\n",
       "    </tr>\n",
       "    <tr>\n",
       "      <th>25%</th>\n",
       "      <td>14.995380</td>\n",
       "    </tr>\n",
       "    <tr>\n",
       "      <th>50%</th>\n",
       "      <td>14.995420</td>\n",
       "    </tr>\n",
       "    <tr>\n",
       "      <th>75%</th>\n",
       "      <td>14.995470</td>\n",
       "    </tr>\n",
       "    <tr>\n",
       "      <th>max</th>\n",
       "      <td>14.996050</td>\n",
       "    </tr>\n",
       "  </tbody>\n",
       "</table>\n",
       "</div>"
      ],
      "text/plain": [
       "       seconds_since_launch\n",
       "count            447.000000\n",
       "mean              14.995431\n",
       "std                0.000100\n",
       "min               14.995020\n",
       "25%               14.995380\n",
       "50%               14.995420\n",
       "75%               14.995470\n",
       "max               14.996050"
      ]
     },
     "execution_count": 9,
     "metadata": {},
     "output_type": "execute_result"
    }
   ],
   "source": [
    "max_time_after_launch.describe()"
   ]
  },
  {
   "cell_type": "markdown",
   "metadata": {},
   "source": [
    "It looks like almost all of the data has a datapoint within one one hunderedth of the 15 second mark. This will make it easy to compare one flight with another."
   ]
  },
  {
   "cell_type": "markdown",
   "metadata": {},
   "source": [
    "One metric that could be important is the velocity after 15 seconds. This metric would be important if every flight was relatively straight. Plot the positions for a random set of flights "
   ]
  },
  {
   "cell_type": "markdown",
   "metadata": {},
   "source": [
    "### c. Plot the path of a sample of planes"
   ]
  },
  {
   "cell_type": "code",
   "execution_count": 10,
   "metadata": {},
   "outputs": [],
   "source": [
    "flight_summaries = pd.read_csv('../data/summary_data.csv')"
   ]
  },
  {
   "cell_type": "code",
   "execution_count": 11,
   "metadata": {},
   "outputs": [],
   "source": [
    "flight_sample = flight_summaries.sample(n=10, random_state=42)"
   ]
  },
  {
   "cell_type": "code",
   "execution_count": 12,
   "metadata": {},
   "outputs": [
    {
     "data": {
      "text/plain": [
       "Index(['seconds_since_launch', 'position_ned_m[0]', 'position_ned_m[1]',\n",
       "       'position_ned_m[2]', 'velocity_ned_mps[0]', 'velocity_ned_mps[1]',\n",
       "       'velocity_ned_mps[2]', 'accel_body_mps2[0]', 'accel_body_mps2[1]',\n",
       "       'accel_body_mps2[2]', 'orientation_rad[0]', 'orientation_rad[1]',\n",
       "       'orientation_rad[2]', 'angular_rate_body_radps[0]',\n",
       "       'angular_rate_body_radps[1]', 'angular_rate_body_radps[2]',\n",
       "       'position_sigma_ned_m[0]', 'position_sigma_ned_m[1]',\n",
       "       'position_sigma_ned_m[2]', 'flight_id'],\n",
       "      dtype='object')"
      ]
     },
     "execution_count": 12,
     "metadata": {},
     "output_type": "execute_result"
    }
   ],
   "source": [
    "hires_flight_data.columns"
   ]
  },
  {
   "cell_type": "code",
   "execution_count": 13,
   "metadata": {},
   "outputs": [
    {
     "data": {
      "text/plain": [
       "{'flight_id'}"
      ]
     },
     "execution_count": 13,
     "metadata": {},
     "output_type": "execute_result"
    }
   ],
   "source": [
    "set(flight_summaries.columns).intersection(set(hires_flight_data.columns))"
   ]
  },
  {
   "cell_type": "code",
   "execution_count": 14,
   "metadata": {},
   "outputs": [
    {
     "data": {
      "text/html": [
       "<div>\n",
       "<style scoped>\n",
       "    .dataframe tbody tr th:only-of-type {\n",
       "        vertical-align: middle;\n",
       "    }\n",
       "\n",
       "    .dataframe tbody tr th {\n",
       "        vertical-align: top;\n",
       "    }\n",
       "\n",
       "    .dataframe thead th {\n",
       "        text-align: right;\n",
       "    }\n",
       "</style>\n",
       "<table border=\"1\" class=\"dataframe\">\n",
       "  <thead>\n",
       "    <tr style=\"text-align: right;\">\n",
       "      <th></th>\n",
       "      <th>flight_id</th>\n",
       "      <th>seconds_since_launch</th>\n",
       "      <th>position_ned_m[0]</th>\n",
       "      <th>position_ned_m[1]</th>\n",
       "      <th>position_ned_m[2]</th>\n",
       "      <th>velocity_ned_mps[0]</th>\n",
       "      <th>velocity_ned_mps[1]</th>\n",
       "      <th>velocity_ned_mps[2]</th>\n",
       "      <th>accel_body_mps2[0]</th>\n",
       "      <th>accel_body_mps2[1]</th>\n",
       "      <th>accel_body_mps2[2]</th>\n",
       "      <th>orientation_rad[0]</th>\n",
       "      <th>orientation_rad[1]</th>\n",
       "      <th>orientation_rad[2]</th>\n",
       "      <th>angular_rate_body_radps[0]</th>\n",
       "      <th>angular_rate_body_radps[1]</th>\n",
       "      <th>angular_rate_body_radps[2]</th>\n",
       "      <th>position_sigma_ned_m[0]</th>\n",
       "      <th>position_sigma_ned_m[1]</th>\n",
       "      <th>position_sigma_ned_m[2]</th>\n",
       "    </tr>\n",
       "  </thead>\n",
       "  <tbody>\n",
       "    <tr>\n",
       "      <th>0</th>\n",
       "      <td>17508</td>\n",
       "      <td>-4.99813</td>\n",
       "      <td>4.511611</td>\n",
       "      <td>7.207816</td>\n",
       "      <td>-3.410138</td>\n",
       "      <td>0.0</td>\n",
       "      <td>0.0</td>\n",
       "      <td>0.0</td>\n",
       "      <td>2.224452</td>\n",
       "      <td>0.016884</td>\n",
       "      <td>-9.503209</td>\n",
       "      <td>0.006961</td>\n",
       "      <td>0.216883</td>\n",
       "      <td>2.740921</td>\n",
       "      <td>-0.000893</td>\n",
       "      <td>0.000388</td>\n",
       "      <td>0.002370</td>\n",
       "      <td>0.144418</td>\n",
       "      <td>0.168294</td>\n",
       "      <td>0.394049</td>\n",
       "    </tr>\n",
       "    <tr>\n",
       "      <th>1</th>\n",
       "      <td>17508</td>\n",
       "      <td>-4.97848</td>\n",
       "      <td>4.508890</td>\n",
       "      <td>7.205891</td>\n",
       "      <td>-3.415132</td>\n",
       "      <td>0.0</td>\n",
       "      <td>0.0</td>\n",
       "      <td>0.0</td>\n",
       "      <td>2.177743</td>\n",
       "      <td>-0.018896</td>\n",
       "      <td>-9.506433</td>\n",
       "      <td>0.006963</td>\n",
       "      <td>0.216905</td>\n",
       "      <td>2.740921</td>\n",
       "      <td>0.002406</td>\n",
       "      <td>-0.004695</td>\n",
       "      <td>0.000523</td>\n",
       "      <td>0.144420</td>\n",
       "      <td>0.168297</td>\n",
       "      <td>0.394055</td>\n",
       "    </tr>\n",
       "  </tbody>\n",
       "</table>\n",
       "</div>"
      ],
      "text/plain": [
       "   flight_id  seconds_since_launch  position_ned_m[0]  position_ned_m[1]  \\\n",
       "0      17508              -4.99813           4.511611           7.207816   \n",
       "1      17508              -4.97848           4.508890           7.205891   \n",
       "\n",
       "   position_ned_m[2]  velocity_ned_mps[0]  velocity_ned_mps[1]  \\\n",
       "0          -3.410138                  0.0                  0.0   \n",
       "1          -3.415132                  0.0                  0.0   \n",
       "\n",
       "   velocity_ned_mps[2]  accel_body_mps2[0]  accel_body_mps2[1]  \\\n",
       "0                  0.0            2.224452            0.016884   \n",
       "1                  0.0            2.177743           -0.018896   \n",
       "\n",
       "   accel_body_mps2[2]  orientation_rad[0]  orientation_rad[1]  \\\n",
       "0           -9.503209            0.006961            0.216883   \n",
       "1           -9.506433            0.006963            0.216905   \n",
       "\n",
       "   orientation_rad[2]  angular_rate_body_radps[0]  angular_rate_body_radps[1]  \\\n",
       "0            2.740921                   -0.000893                    0.000388   \n",
       "1            2.740921                    0.002406                   -0.004695   \n",
       "\n",
       "   angular_rate_body_radps[2]  position_sigma_ned_m[0]  \\\n",
       "0                    0.002370                 0.144418   \n",
       "1                    0.000523                 0.144420   \n",
       "\n",
       "   position_sigma_ned_m[1]  position_sigma_ned_m[2]  \n",
       "0                 0.168294                 0.394049  \n",
       "1                 0.168297                 0.394055  "
      ]
     },
     "execution_count": 14,
     "metadata": {},
     "output_type": "execute_result"
    }
   ],
   "source": [
    "select_flights = flight_sample[['flight_id']].merge(hires_flight_data, \n",
    "                                    how='inner',\n",
    "                                    on='flight_id')\n",
    "select_flights.reset_index\n",
    "select_flights.head(2)"
   ]
  },
  {
   "cell_type": "code",
   "execution_count": 15,
   "metadata": {},
   "outputs": [],
   "source": [
    "coordinates = ['flight_id', 'seconds_since_launch', 'position_ned_m[0]', 'position_ned_m[1]',\n",
    "       'position_ned_m[2]']"
   ]
  },
  {
   "cell_type": "code",
   "execution_count": 16,
   "metadata": {},
   "outputs": [],
   "source": [
    "select_flight_groups = select_flights.groupby('flight_id')"
   ]
  },
  {
   "cell_type": "code",
   "execution_count": 17,
   "metadata": {
    "scrolled": false
   },
   "outputs": [
    {
     "name": "stderr",
     "output_type": "stream",
     "text": [
      "/home/obdsd/Documents/workspace/zipline_tsq/dsth_zip/v36/lib/python3.6/site-packages/IPython/core/display.py:689: UserWarning:\n",
      "\n",
      "Consider using IPython.display.IFrame instead\n",
      "\n"
     ]
    },
    {
     "data": {
      "text/html": [
       "<iframe id=\"igraph\" scrolling=\"no\" style=\"border:none;\" seamless=\"seamless\" src=\"https://plot.ly/~tobys/6.embed\" height=\"525px\" width=\"100%\"></iframe>"
      ],
      "text/plain": [
       "<plotly.tools.PlotlyDisplay object>"
      ]
     },
     "execution_count": 17,
     "metadata": {},
     "output_type": "execute_result"
    }
   ],
   "source": [
    "traces = []\n",
    "for flight, flight_data in select_flight_groups:\n",
    "    temp_trace = go.Scatter3d(x=flight_data['position_ned_m[1]'],\n",
    "                            y=flight_data['position_ned_m[0]'],\n",
    "                            z=flight_data['position_ned_m[2]'] * (-1),\n",
    "                            hovertext = flight_data['seconds_since_launch'],\n",
    "                            mode='lines',\n",
    "                            name=flight)\n",
    "    traces.append(temp_trace)\n",
    "layout = go.Layout(title='Trajectory for 10 random flights')\n",
    "fig = go.Figure(data=traces, layout=layout)\n",
    "py.iplot(fig, filename='trajectory')"
   ]
  },
  {
   "cell_type": "code",
   "execution_count": 18,
   "metadata": {},
   "outputs": [
    {
     "data": {
      "text/html": [
       "<iframe id=\"igraph\" scrolling=\"no\" style=\"border:none;\" seamless=\"seamless\" src=\"https://plot.ly/~tobys/12.embed\" height=\"525px\" width=\"100%\"></iframe>"
      ],
      "text/plain": [
       "<plotly.tools.PlotlyDisplay object>"
      ]
     },
     "execution_count": 18,
     "metadata": {},
     "output_type": "execute_result"
    }
   ],
   "source": [
    "traces = []\n",
    "for flight, flight_data in select_flight_groups:\n",
    "    temp_trace = go.Scatter3d(x=flight_data['velocity_ned_mps[1]'],\n",
    "                            y=flight_data['velocity_ned_mps[0]'],\n",
    "                            z=flight_data['velocity_ned_mps[2]'],\n",
    "                            hovertext = flight_data['seconds_since_launch'],\n",
    "                            mode='lines+markers',\n",
    "                            name=flight)\n",
    "    traces.append(temp_trace)\n",
    "layout = go.Layout(title='Velocity for 2 random flights')\n",
    "fig = go.Figure(layout=layout, data=traces)\n",
    "py.iplot(fig, filename='velocity')"
   ]
  },
  {
   "cell_type": "markdown",
   "metadata": {},
   "source": [
    "It looks like the flights are primarly along the same XY plane"
   ]
  },
  {
   "cell_type": "markdown",
   "metadata": {},
   "source": [
    "## 2. Quantify the deviation from the flight path\n",
    "First make sure that the number of datapoints that we get from each flight is the same"
   ]
  },
  {
   "cell_type": "code",
   "execution_count": 19,
   "metadata": {},
   "outputs": [
    {
     "data": {
      "text/html": [
       "<div>\n",
       "<style scoped>\n",
       "    .dataframe tbody tr th:only-of-type {\n",
       "        vertical-align: middle;\n",
       "    }\n",
       "\n",
       "    .dataframe tbody tr th {\n",
       "        vertical-align: top;\n",
       "    }\n",
       "\n",
       "    .dataframe thead th {\n",
       "        text-align: right;\n",
       "    }\n",
       "</style>\n",
       "<table border=\"1\" class=\"dataframe\">\n",
       "  <thead>\n",
       "    <tr style=\"text-align: right;\">\n",
       "      <th></th>\n",
       "      <th>seconds_since_launch</th>\n",
       "    </tr>\n",
       "  </thead>\n",
       "  <tbody>\n",
       "    <tr>\n",
       "      <th>count</th>\n",
       "      <td>447.000000</td>\n",
       "    </tr>\n",
       "    <tr>\n",
       "      <th>mean</th>\n",
       "      <td>1000.617450</td>\n",
       "    </tr>\n",
       "    <tr>\n",
       "      <th>std</th>\n",
       "      <td>3.132208</td>\n",
       "    </tr>\n",
       "    <tr>\n",
       "      <th>min</th>\n",
       "      <td>945.000000</td>\n",
       "    </tr>\n",
       "    <tr>\n",
       "      <th>25%</th>\n",
       "      <td>1001.000000</td>\n",
       "    </tr>\n",
       "    <tr>\n",
       "      <th>50%</th>\n",
       "      <td>1001.000000</td>\n",
       "    </tr>\n",
       "    <tr>\n",
       "      <th>75%</th>\n",
       "      <td>1001.000000</td>\n",
       "    </tr>\n",
       "    <tr>\n",
       "      <th>max</th>\n",
       "      <td>1001.000000</td>\n",
       "    </tr>\n",
       "  </tbody>\n",
       "</table>\n",
       "</div>"
      ],
      "text/plain": [
       "       seconds_since_launch\n",
       "count            447.000000\n",
       "mean            1000.617450\n",
       "std                3.132208\n",
       "min              945.000000\n",
       "25%             1001.000000\n",
       "50%             1001.000000\n",
       "75%             1001.000000\n",
       "max             1001.000000"
      ]
     },
     "execution_count": 19,
     "metadata": {},
     "output_type": "execute_result"
    }
   ],
   "source": [
    "flight_data_points = hires_flight_data.groupby('flight_id').\\\n",
    "                                          agg({'seconds_since_launch':'count'})\n",
    "flight_data_points.describe()"
   ]
  },
  {
   "cell_type": "code",
   "execution_count": 20,
   "metadata": {},
   "outputs": [
    {
     "data": {
      "text/plain": [
       "(427, 1)"
      ]
     },
     "execution_count": 20,
     "metadata": {},
     "output_type": "execute_result"
    }
   ],
   "source": [
    "flights_with_good_data = flight_data_points.loc[flight_data_points.seconds_since_launch == 1001]\n",
    "flights_with_good_data.shape"
   ]
  },
  {
   "cell_type": "code",
   "execution_count": 21,
   "metadata": {},
   "outputs": [],
   "source": [
    "position_columns = ['seconds_since_launch', 'position_ned_m[0]', 'position_ned_m[1]','position_ned_m[2]',\n",
    "                    'orientation_rad[0]', 'orientation_rad[1]', 'orientation_rad[2]']"
   ]
  },
  {
   "cell_type": "code",
   "execution_count": 22,
   "metadata": {
    "scrolled": false
   },
   "outputs": [
    {
     "data": {
      "text/html": [
       "<div>\n",
       "<style scoped>\n",
       "    .dataframe tbody tr th:only-of-type {\n",
       "        vertical-align: middle;\n",
       "    }\n",
       "\n",
       "    .dataframe tbody tr th {\n",
       "        vertical-align: top;\n",
       "    }\n",
       "\n",
       "    .dataframe thead th {\n",
       "        text-align: right;\n",
       "    }\n",
       "</style>\n",
       "<table border=\"1\" class=\"dataframe\">\n",
       "  <thead>\n",
       "    <tr style=\"text-align: right;\">\n",
       "      <th></th>\n",
       "      <th>position_ned_m[0]mean</th>\n",
       "      <th>position_ned_m[0]std</th>\n",
       "      <th>position_ned_m[1]mean</th>\n",
       "      <th>position_ned_m[1]std</th>\n",
       "      <th>position_ned_m[2]mean</th>\n",
       "      <th>position_ned_m[2]std</th>\n",
       "      <th>orientation_rad[0]mean</th>\n",
       "      <th>orientation_rad[0]std</th>\n",
       "      <th>orientation_rad[1]mean</th>\n",
       "      <th>orientation_rad[1]std</th>\n",
       "      <th>orientation_rad[2]mean</th>\n",
       "      <th>orientation_rad[2]std</th>\n",
       "    </tr>\n",
       "    <tr>\n",
       "      <th>seconds_since_launch</th>\n",
       "      <th></th>\n",
       "      <th></th>\n",
       "      <th></th>\n",
       "      <th></th>\n",
       "      <th></th>\n",
       "      <th></th>\n",
       "      <th></th>\n",
       "      <th></th>\n",
       "      <th></th>\n",
       "      <th></th>\n",
       "      <th></th>\n",
       "      <th></th>\n",
       "    </tr>\n",
       "  </thead>\n",
       "  <tbody>\n",
       "    <tr>\n",
       "      <th>-5.0</th>\n",
       "      <td>4.595146</td>\n",
       "      <td>0.695278</td>\n",
       "      <td>7.152763</td>\n",
       "      <td>0.914166</td>\n",
       "      <td>-4.505521</td>\n",
       "      <td>1.776276</td>\n",
       "      <td>0.007222</td>\n",
       "      <td>0.001086</td>\n",
       "      <td>0.217737</td>\n",
       "      <td>0.001777</td>\n",
       "      <td>2.714132</td>\n",
       "      <td>0.282433</td>\n",
       "    </tr>\n",
       "    <tr>\n",
       "      <th>-4.9</th>\n",
       "      <td>4.594823</td>\n",
       "      <td>0.695072</td>\n",
       "      <td>7.152820</td>\n",
       "      <td>0.914134</td>\n",
       "      <td>-4.505010</td>\n",
       "      <td>1.776009</td>\n",
       "      <td>0.007223</td>\n",
       "      <td>0.001087</td>\n",
       "      <td>0.217735</td>\n",
       "      <td>0.001777</td>\n",
       "      <td>2.714112</td>\n",
       "      <td>0.282496</td>\n",
       "    </tr>\n",
       "    <tr>\n",
       "      <th>-4.8</th>\n",
       "      <td>4.594818</td>\n",
       "      <td>0.694540</td>\n",
       "      <td>7.153023</td>\n",
       "      <td>0.913831</td>\n",
       "      <td>-4.504880</td>\n",
       "      <td>1.775948</td>\n",
       "      <td>0.007222</td>\n",
       "      <td>0.001086</td>\n",
       "      <td>0.217736</td>\n",
       "      <td>0.001778</td>\n",
       "      <td>2.714112</td>\n",
       "      <td>0.282496</td>\n",
       "    </tr>\n",
       "    <tr>\n",
       "      <th>-4.7</th>\n",
       "      <td>4.595287</td>\n",
       "      <td>0.693836</td>\n",
       "      <td>7.153229</td>\n",
       "      <td>0.913008</td>\n",
       "      <td>-4.505157</td>\n",
       "      <td>1.774357</td>\n",
       "      <td>0.007221</td>\n",
       "      <td>0.001085</td>\n",
       "      <td>0.217737</td>\n",
       "      <td>0.001777</td>\n",
       "      <td>2.714148</td>\n",
       "      <td>0.282307</td>\n",
       "    </tr>\n",
       "    <tr>\n",
       "      <th>-4.6</th>\n",
       "      <td>4.595382</td>\n",
       "      <td>0.693116</td>\n",
       "      <td>7.153009</td>\n",
       "      <td>0.912356</td>\n",
       "      <td>-4.505396</td>\n",
       "      <td>1.773566</td>\n",
       "      <td>0.007222</td>\n",
       "      <td>0.001085</td>\n",
       "      <td>0.217737</td>\n",
       "      <td>0.001777</td>\n",
       "      <td>2.714172</td>\n",
       "      <td>0.282182</td>\n",
       "    </tr>\n",
       "  </tbody>\n",
       "</table>\n",
       "</div>"
      ],
      "text/plain": [
       "                      position_ned_m[0]mean  position_ned_m[0]std  \\\n",
       "seconds_since_launch                                                \n",
       "-5.0                               4.595146              0.695278   \n",
       "-4.9                               4.594823              0.695072   \n",
       "-4.8                               4.594818              0.694540   \n",
       "-4.7                               4.595287              0.693836   \n",
       "-4.6                               4.595382              0.693116   \n",
       "\n",
       "                      position_ned_m[1]mean  position_ned_m[1]std  \\\n",
       "seconds_since_launch                                                \n",
       "-5.0                               7.152763              0.914166   \n",
       "-4.9                               7.152820              0.914134   \n",
       "-4.8                               7.153023              0.913831   \n",
       "-4.7                               7.153229              0.913008   \n",
       "-4.6                               7.153009              0.912356   \n",
       "\n",
       "                      position_ned_m[2]mean  position_ned_m[2]std  \\\n",
       "seconds_since_launch                                                \n",
       "-5.0                              -4.505521              1.776276   \n",
       "-4.9                              -4.505010              1.776009   \n",
       "-4.8                              -4.504880              1.775948   \n",
       "-4.7                              -4.505157              1.774357   \n",
       "-4.6                              -4.505396              1.773566   \n",
       "\n",
       "                      orientation_rad[0]mean  orientation_rad[0]std  \\\n",
       "seconds_since_launch                                                  \n",
       "-5.0                                0.007222               0.001086   \n",
       "-4.9                                0.007223               0.001087   \n",
       "-4.8                                0.007222               0.001086   \n",
       "-4.7                                0.007221               0.001085   \n",
       "-4.6                                0.007222               0.001085   \n",
       "\n",
       "                      orientation_rad[1]mean  orientation_rad[1]std  \\\n",
       "seconds_since_launch                                                  \n",
       "-5.0                                0.217737               0.001777   \n",
       "-4.9                                0.217735               0.001777   \n",
       "-4.8                                0.217736               0.001778   \n",
       "-4.7                                0.217737               0.001777   \n",
       "-4.6                                0.217737               0.001777   \n",
       "\n",
       "                      orientation_rad[2]mean  orientation_rad[2]std  \n",
       "seconds_since_launch                                                 \n",
       "-5.0                                2.714132               0.282433  \n",
       "-4.9                                2.714112               0.282496  \n",
       "-4.8                                2.714112               0.282496  \n",
       "-4.7                                2.714148               0.282307  \n",
       "-4.6                                2.714172               0.282182  "
      ]
     },
     "execution_count": 22,
     "metadata": {},
     "output_type": "execute_result"
    }
   ],
   "source": [
    "downsampled_data = hires_flight_data.copy()\n",
    "downsampled_data['seconds_since_launch'] = downsampled_data.seconds_since_launch.round(1)\n",
    "flight_maxmin = downsampled_data[position_columns].groupby('seconds_since_launch').agg(['mean', 'std'])\n",
    "cols = pd.Series(flight_maxmin.columns.tolist()).apply(pd.Series).sum(axis=1)\n",
    "flight_maxmin.columns = cols\n",
    "flight_maxmin.head()"
   ]
  },
  {
   "cell_type": "code",
   "execution_count": 23,
   "metadata": {},
   "outputs": [
    {
     "data": {
      "text/html": [
       "<div>\n",
       "<style scoped>\n",
       "    .dataframe tbody tr th:only-of-type {\n",
       "        vertical-align: middle;\n",
       "    }\n",
       "\n",
       "    .dataframe tbody tr th {\n",
       "        vertical-align: top;\n",
       "    }\n",
       "\n",
       "    .dataframe thead th {\n",
       "        text-align: right;\n",
       "    }\n",
       "</style>\n",
       "<table border=\"1\" class=\"dataframe\">\n",
       "  <thead>\n",
       "    <tr style=\"text-align: right;\">\n",
       "      <th></th>\n",
       "      <th>position_ned_m[0]mean</th>\n",
       "      <th>position_ned_m[0]std</th>\n",
       "      <th>position_ned_m[1]mean</th>\n",
       "      <th>position_ned_m[1]std</th>\n",
       "      <th>position_ned_m[2]mean</th>\n",
       "      <th>position_ned_m[2]std</th>\n",
       "      <th>orientation_rad[0]mean</th>\n",
       "      <th>orientation_rad[0]std</th>\n",
       "      <th>orientation_rad[1]mean</th>\n",
       "      <th>orientation_rad[1]std</th>\n",
       "      <th>orientation_rad[2]mean</th>\n",
       "      <th>orientation_rad[2]std</th>\n",
       "      <th>flight_id</th>\n",
       "      <th>seconds_since_launch</th>\n",
       "      <th>position_ned_m[0]</th>\n",
       "      <th>position_ned_m[1]</th>\n",
       "      <th>position_ned_m[2]</th>\n",
       "      <th>orientation_rad[0]</th>\n",
       "      <th>orientation_rad[1]</th>\n",
       "      <th>orientation_rad[2]</th>\n",
       "    </tr>\n",
       "  </thead>\n",
       "  <tbody>\n",
       "    <tr>\n",
       "      <th>0</th>\n",
       "      <td>4.595146</td>\n",
       "      <td>0.695278</td>\n",
       "      <td>7.152763</td>\n",
       "      <td>0.914166</td>\n",
       "      <td>-4.505521</td>\n",
       "      <td>1.776276</td>\n",
       "      <td>0.007222</td>\n",
       "      <td>0.001086</td>\n",
       "      <td>0.217737</td>\n",
       "      <td>0.001777</td>\n",
       "      <td>2.714132</td>\n",
       "      <td>0.282433</td>\n",
       "      <td>16995</td>\n",
       "      <td>-5.0</td>\n",
       "      <td>4.335297</td>\n",
       "      <td>6.089418</td>\n",
       "      <td>-3.268693</td>\n",
       "      <td>0.005853</td>\n",
       "      <td>0.215869</td>\n",
       "      <td>2.740676</td>\n",
       "    </tr>\n",
       "    <tr>\n",
       "      <th>1</th>\n",
       "      <td>4.595146</td>\n",
       "      <td>0.695278</td>\n",
       "      <td>7.152763</td>\n",
       "      <td>0.914166</td>\n",
       "      <td>-4.505521</td>\n",
       "      <td>1.776276</td>\n",
       "      <td>0.007222</td>\n",
       "      <td>0.001086</td>\n",
       "      <td>0.217737</td>\n",
       "      <td>0.001777</td>\n",
       "      <td>2.714132</td>\n",
       "      <td>0.282433</td>\n",
       "      <td>16995</td>\n",
       "      <td>-5.0</td>\n",
       "      <td>4.335454</td>\n",
       "      <td>6.089682</td>\n",
       "      <td>-3.267985</td>\n",
       "      <td>0.005857</td>\n",
       "      <td>0.215868</td>\n",
       "      <td>2.740677</td>\n",
       "    </tr>\n",
       "    <tr>\n",
       "      <th>2</th>\n",
       "      <td>4.595146</td>\n",
       "      <td>0.695278</td>\n",
       "      <td>7.152763</td>\n",
       "      <td>0.914166</td>\n",
       "      <td>-4.505521</td>\n",
       "      <td>1.776276</td>\n",
       "      <td>0.007222</td>\n",
       "      <td>0.001086</td>\n",
       "      <td>0.217737</td>\n",
       "      <td>0.001777</td>\n",
       "      <td>2.714132</td>\n",
       "      <td>0.282433</td>\n",
       "      <td>16995</td>\n",
       "      <td>-5.0</td>\n",
       "      <td>4.335454</td>\n",
       "      <td>6.089682</td>\n",
       "      <td>-3.267985</td>\n",
       "      <td>0.005868</td>\n",
       "      <td>0.215866</td>\n",
       "      <td>2.740679</td>\n",
       "    </tr>\n",
       "    <tr>\n",
       "      <th>0</th>\n",
       "      <td>4.595146</td>\n",
       "      <td>0.695278</td>\n",
       "      <td>7.152763</td>\n",
       "      <td>0.914166</td>\n",
       "      <td>-4.505521</td>\n",
       "      <td>1.776276</td>\n",
       "      <td>0.007222</td>\n",
       "      <td>0.001086</td>\n",
       "      <td>0.217737</td>\n",
       "      <td>0.001777</td>\n",
       "      <td>2.714132</td>\n",
       "      <td>0.282433</td>\n",
       "      <td>16996</td>\n",
       "      <td>-5.0</td>\n",
       "      <td>4.419536</td>\n",
       "      <td>7.101200</td>\n",
       "      <td>-3.966274</td>\n",
       "      <td>0.006896</td>\n",
       "      <td>0.220499</td>\n",
       "      <td>2.740918</td>\n",
       "    </tr>\n",
       "    <tr>\n",
       "      <th>1</th>\n",
       "      <td>4.595146</td>\n",
       "      <td>0.695278</td>\n",
       "      <td>7.152763</td>\n",
       "      <td>0.914166</td>\n",
       "      <td>-4.505521</td>\n",
       "      <td>1.776276</td>\n",
       "      <td>0.007222</td>\n",
       "      <td>0.001086</td>\n",
       "      <td>0.217737</td>\n",
       "      <td>0.001777</td>\n",
       "      <td>2.714132</td>\n",
       "      <td>0.282433</td>\n",
       "      <td>16996</td>\n",
       "      <td>-5.0</td>\n",
       "      <td>4.418713</td>\n",
       "      <td>7.098773</td>\n",
       "      <td>-3.965782</td>\n",
       "      <td>0.006894</td>\n",
       "      <td>0.220513</td>\n",
       "      <td>2.740918</td>\n",
       "    </tr>\n",
       "  </tbody>\n",
       "</table>\n",
       "</div>"
      ],
      "text/plain": [
       "   position_ned_m[0]mean  position_ned_m[0]std  position_ned_m[1]mean  \\\n",
       "0               4.595146              0.695278               7.152763   \n",
       "1               4.595146              0.695278               7.152763   \n",
       "2               4.595146              0.695278               7.152763   \n",
       "0               4.595146              0.695278               7.152763   \n",
       "1               4.595146              0.695278               7.152763   \n",
       "\n",
       "   position_ned_m[1]std  position_ned_m[2]mean  position_ned_m[2]std  \\\n",
       "0              0.914166              -4.505521              1.776276   \n",
       "1              0.914166              -4.505521              1.776276   \n",
       "2              0.914166              -4.505521              1.776276   \n",
       "0              0.914166              -4.505521              1.776276   \n",
       "1              0.914166              -4.505521              1.776276   \n",
       "\n",
       "   orientation_rad[0]mean  orientation_rad[0]std  orientation_rad[1]mean  \\\n",
       "0                0.007222               0.001086                0.217737   \n",
       "1                0.007222               0.001086                0.217737   \n",
       "2                0.007222               0.001086                0.217737   \n",
       "0                0.007222               0.001086                0.217737   \n",
       "1                0.007222               0.001086                0.217737   \n",
       "\n",
       "   orientation_rad[1]std  orientation_rad[2]mean  orientation_rad[2]std  \\\n",
       "0               0.001777                2.714132               0.282433   \n",
       "1               0.001777                2.714132               0.282433   \n",
       "2               0.001777                2.714132               0.282433   \n",
       "0               0.001777                2.714132               0.282433   \n",
       "1               0.001777                2.714132               0.282433   \n",
       "\n",
       "   flight_id  seconds_since_launch  position_ned_m[0]  position_ned_m[1]  \\\n",
       "0      16995                  -5.0           4.335297           6.089418   \n",
       "1      16995                  -5.0           4.335454           6.089682   \n",
       "2      16995                  -5.0           4.335454           6.089682   \n",
       "0      16996                  -5.0           4.419536           7.101200   \n",
       "1      16996                  -5.0           4.418713           7.098773   \n",
       "\n",
       "   position_ned_m[2]  orientation_rad[0]  orientation_rad[1]  \\\n",
       "0          -3.268693            0.005853            0.215869   \n",
       "1          -3.267985            0.005857            0.215868   \n",
       "2          -3.267985            0.005868            0.215866   \n",
       "0          -3.966274            0.006896            0.220499   \n",
       "1          -3.965782            0.006894            0.220513   \n",
       "\n",
       "   orientation_rad[2]  \n",
       "0            2.740676  \n",
       "1            2.740677  \n",
       "2            2.740679  \n",
       "0            2.740918  \n",
       "1            2.740918  "
      ]
     },
     "execution_count": 23,
     "metadata": {},
     "output_type": "execute_result"
    }
   ],
   "source": [
    "data_and_agg = flight_maxmin.merge(downsampled_data[['flight_id', 'seconds_since_launch', 'position_ned_m[0]', 'position_ned_m[1]','position_ned_m[2]',\n",
    "                    'orientation_rad[0]', 'orientation_rad[1]', 'orientation_rad[2]']], \n",
    "                                   left_index=True, \n",
    "                                   right_on='seconds_since_launch')    \n",
    "data_and_agg.head()"
   ]
  },
  {
   "cell_type": "code",
   "execution_count": 24,
   "metadata": {},
   "outputs": [],
   "source": [
    "for column in ['position_ned_m[0]', 'position_ned_m[1]','position_ned_m[2]',\n",
    "                'orientation_rad[0]', 'orientation_rad[1]', 'orientation_rad[2]']:\n",
    "    mean_values = data_and_agg[column + 'mean']\n",
    "    std_values = data_and_agg[column + 'std']\n",
    "    data_and_agg[column + '_scaled'] = (data_and_agg[column] - mean_values)/ (std_values)\n",
    "    "
   ]
  },
  {
   "cell_type": "code",
   "execution_count": 25,
   "metadata": {},
   "outputs": [
    {
     "data": {
      "text/html": [
       "<div>\n",
       "<style scoped>\n",
       "    .dataframe tbody tr th:only-of-type {\n",
       "        vertical-align: middle;\n",
       "    }\n",
       "\n",
       "    .dataframe tbody tr th {\n",
       "        vertical-align: top;\n",
       "    }\n",
       "\n",
       "    .dataframe thead th {\n",
       "        text-align: right;\n",
       "    }\n",
       "</style>\n",
       "<table border=\"1\" class=\"dataframe\">\n",
       "  <thead>\n",
       "    <tr style=\"text-align: right;\">\n",
       "      <th></th>\n",
       "      <th>position_ned_m[0]mean</th>\n",
       "      <th>position_ned_m[0]std</th>\n",
       "      <th>position_ned_m[1]mean</th>\n",
       "      <th>position_ned_m[1]std</th>\n",
       "      <th>position_ned_m[2]mean</th>\n",
       "      <th>position_ned_m[2]std</th>\n",
       "      <th>orientation_rad[0]mean</th>\n",
       "      <th>orientation_rad[0]std</th>\n",
       "      <th>orientation_rad[1]mean</th>\n",
       "      <th>orientation_rad[1]std</th>\n",
       "      <th>...</th>\n",
       "      <th>position_ned_m[2]</th>\n",
       "      <th>orientation_rad[0]</th>\n",
       "      <th>orientation_rad[1]</th>\n",
       "      <th>orientation_rad[2]</th>\n",
       "      <th>position_ned_m[0]_scaled</th>\n",
       "      <th>position_ned_m[1]_scaled</th>\n",
       "      <th>position_ned_m[2]_scaled</th>\n",
       "      <th>orientation_rad[0]_scaled</th>\n",
       "      <th>orientation_rad[1]_scaled</th>\n",
       "      <th>orientation_rad[2]_scaled</th>\n",
       "    </tr>\n",
       "  </thead>\n",
       "  <tbody>\n",
       "    <tr>\n",
       "      <th>0</th>\n",
       "      <td>4.595146</td>\n",
       "      <td>0.695278</td>\n",
       "      <td>7.152763</td>\n",
       "      <td>0.914166</td>\n",
       "      <td>-4.505521</td>\n",
       "      <td>1.776276</td>\n",
       "      <td>0.007222</td>\n",
       "      <td>0.001086</td>\n",
       "      <td>0.217737</td>\n",
       "      <td>0.001777</td>\n",
       "      <td>...</td>\n",
       "      <td>-3.268693</td>\n",
       "      <td>0.005853</td>\n",
       "      <td>0.215869</td>\n",
       "      <td>2.740676</td>\n",
       "      <td>-0.373734</td>\n",
       "      <td>-1.163186</td>\n",
       "      <td>0.696304</td>\n",
       "      <td>-1.260643</td>\n",
       "      <td>-1.051377</td>\n",
       "      <td>0.093985</td>\n",
       "    </tr>\n",
       "    <tr>\n",
       "      <th>1</th>\n",
       "      <td>4.595146</td>\n",
       "      <td>0.695278</td>\n",
       "      <td>7.152763</td>\n",
       "      <td>0.914166</td>\n",
       "      <td>-4.505521</td>\n",
       "      <td>1.776276</td>\n",
       "      <td>0.007222</td>\n",
       "      <td>0.001086</td>\n",
       "      <td>0.217737</td>\n",
       "      <td>0.001777</td>\n",
       "      <td>...</td>\n",
       "      <td>-3.267985</td>\n",
       "      <td>0.005857</td>\n",
       "      <td>0.215868</td>\n",
       "      <td>2.740677</td>\n",
       "      <td>-0.373509</td>\n",
       "      <td>-1.162898</td>\n",
       "      <td>0.696702</td>\n",
       "      <td>-1.256795</td>\n",
       "      <td>-1.051636</td>\n",
       "      <td>0.093987</td>\n",
       "    </tr>\n",
       "  </tbody>\n",
       "</table>\n",
       "<p>2 rows × 26 columns</p>\n",
       "</div>"
      ],
      "text/plain": [
       "   position_ned_m[0]mean  position_ned_m[0]std  position_ned_m[1]mean  \\\n",
       "0               4.595146              0.695278               7.152763   \n",
       "1               4.595146              0.695278               7.152763   \n",
       "\n",
       "   position_ned_m[1]std  position_ned_m[2]mean  position_ned_m[2]std  \\\n",
       "0              0.914166              -4.505521              1.776276   \n",
       "1              0.914166              -4.505521              1.776276   \n",
       "\n",
       "   orientation_rad[0]mean  orientation_rad[0]std  orientation_rad[1]mean  \\\n",
       "0                0.007222               0.001086                0.217737   \n",
       "1                0.007222               0.001086                0.217737   \n",
       "\n",
       "   orientation_rad[1]std            ...              position_ned_m[2]  \\\n",
       "0               0.001777            ...                      -3.268693   \n",
       "1               0.001777            ...                      -3.267985   \n",
       "\n",
       "   orientation_rad[0]  orientation_rad[1]  orientation_rad[2]  \\\n",
       "0            0.005853            0.215869            2.740676   \n",
       "1            0.005857            0.215868            2.740677   \n",
       "\n",
       "   position_ned_m[0]_scaled  position_ned_m[1]_scaled  \\\n",
       "0                 -0.373734                 -1.163186   \n",
       "1                 -0.373509                 -1.162898   \n",
       "\n",
       "   position_ned_m[2]_scaled  orientation_rad[0]_scaled  \\\n",
       "0                  0.696304                  -1.260643   \n",
       "1                  0.696702                  -1.256795   \n",
       "\n",
       "   orientation_rad[1]_scaled  orientation_rad[2]_scaled  \n",
       "0                  -1.051377                   0.093985  \n",
       "1                  -1.051636                   0.093987  \n",
       "\n",
       "[2 rows x 26 columns]"
      ]
     },
     "execution_count": 25,
     "metadata": {},
     "output_type": "execute_result"
    }
   ],
   "source": [
    "data_and_agg.head(2)"
   ]
  },
  {
   "cell_type": "code",
   "execution_count": 26,
   "metadata": {},
   "outputs": [
    {
     "data": {
      "text/html": [
       "<div>\n",
       "<style scoped>\n",
       "    .dataframe tbody tr th:only-of-type {\n",
       "        vertical-align: middle;\n",
       "    }\n",
       "\n",
       "    .dataframe tbody tr th {\n",
       "        vertical-align: top;\n",
       "    }\n",
       "\n",
       "    .dataframe thead th {\n",
       "        text-align: right;\n",
       "    }\n",
       "</style>\n",
       "<table border=\"1\" class=\"dataframe\">\n",
       "  <thead>\n",
       "    <tr style=\"text-align: right;\">\n",
       "      <th></th>\n",
       "      <th>position_ned_m[0]mean</th>\n",
       "      <th>position_ned_m[0]std</th>\n",
       "      <th>position_ned_m[1]mean</th>\n",
       "      <th>position_ned_m[1]std</th>\n",
       "      <th>position_ned_m[2]mean</th>\n",
       "      <th>position_ned_m[2]std</th>\n",
       "      <th>orientation_rad[0]mean</th>\n",
       "      <th>orientation_rad[0]std</th>\n",
       "      <th>orientation_rad[1]mean</th>\n",
       "      <th>orientation_rad[1]std</th>\n",
       "      <th>...</th>\n",
       "      <th>position_ned_m[2]</th>\n",
       "      <th>orientation_rad[0]</th>\n",
       "      <th>orientation_rad[1]</th>\n",
       "      <th>orientation_rad[2]</th>\n",
       "      <th>position_ned_m[0]_scaled</th>\n",
       "      <th>position_ned_m[1]_scaled</th>\n",
       "      <th>position_ned_m[2]_scaled</th>\n",
       "      <th>orientation_rad[0]_scaled</th>\n",
       "      <th>orientation_rad[1]_scaled</th>\n",
       "      <th>orientation_rad[2]_scaled</th>\n",
       "    </tr>\n",
       "  </thead>\n",
       "  <tbody>\n",
       "    <tr>\n",
       "      <th>0</th>\n",
       "      <td>4.595146</td>\n",
       "      <td>0.695278</td>\n",
       "      <td>7.152763</td>\n",
       "      <td>0.914166</td>\n",
       "      <td>-4.505521</td>\n",
       "      <td>1.776276</td>\n",
       "      <td>0.007222</td>\n",
       "      <td>0.001086</td>\n",
       "      <td>0.217737</td>\n",
       "      <td>0.001777</td>\n",
       "      <td>...</td>\n",
       "      <td>-10.847755</td>\n",
       "      <td>0.008737</td>\n",
       "      <td>0.219457</td>\n",
       "      <td>2.741319</td>\n",
       "      <td>-1.158167</td>\n",
       "      <td>1.624317</td>\n",
       "      <td>-3.570523</td>\n",
       "      <td>1.395240</td>\n",
       "      <td>0.968426</td>\n",
       "      <td>0.096258</td>\n",
       "    </tr>\n",
       "    <tr>\n",
       "      <th>1</th>\n",
       "      <td>4.595146</td>\n",
       "      <td>0.695278</td>\n",
       "      <td>7.152763</td>\n",
       "      <td>0.914166</td>\n",
       "      <td>-4.505521</td>\n",
       "      <td>1.776276</td>\n",
       "      <td>0.007222</td>\n",
       "      <td>0.001086</td>\n",
       "      <td>0.217737</td>\n",
       "      <td>0.001777</td>\n",
       "      <td>...</td>\n",
       "      <td>-10.847402</td>\n",
       "      <td>0.008730</td>\n",
       "      <td>0.219488</td>\n",
       "      <td>2.741317</td>\n",
       "      <td>-1.158372</td>\n",
       "      <td>1.623672</td>\n",
       "      <td>-3.570325</td>\n",
       "      <td>1.388510</td>\n",
       "      <td>0.985588</td>\n",
       "      <td>0.096253</td>\n",
       "    </tr>\n",
       "    <tr>\n",
       "      <th>2</th>\n",
       "      <td>4.595146</td>\n",
       "      <td>0.695278</td>\n",
       "      <td>7.152763</td>\n",
       "      <td>0.914166</td>\n",
       "      <td>-4.505521</td>\n",
       "      <td>1.776276</td>\n",
       "      <td>0.007222</td>\n",
       "      <td>0.001086</td>\n",
       "      <td>0.217737</td>\n",
       "      <td>0.001777</td>\n",
       "      <td>...</td>\n",
       "      <td>-10.847402</td>\n",
       "      <td>0.008723</td>\n",
       "      <td>0.219464</td>\n",
       "      <td>2.741315</td>\n",
       "      <td>-1.158372</td>\n",
       "      <td>1.623672</td>\n",
       "      <td>-3.570325</td>\n",
       "      <td>1.381904</td>\n",
       "      <td>0.972619</td>\n",
       "      <td>0.096247</td>\n",
       "    </tr>\n",
       "  </tbody>\n",
       "</table>\n",
       "<p>3 rows × 26 columns</p>\n",
       "</div>"
      ],
      "text/plain": [
       "   position_ned_m[0]mean  position_ned_m[0]std  position_ned_m[1]mean  \\\n",
       "0               4.595146              0.695278               7.152763   \n",
       "1               4.595146              0.695278               7.152763   \n",
       "2               4.595146              0.695278               7.152763   \n",
       "\n",
       "   position_ned_m[1]std  position_ned_m[2]mean  position_ned_m[2]std  \\\n",
       "0              0.914166              -4.505521              1.776276   \n",
       "1              0.914166              -4.505521              1.776276   \n",
       "2              0.914166              -4.505521              1.776276   \n",
       "\n",
       "   orientation_rad[0]mean  orientation_rad[0]std  orientation_rad[1]mean  \\\n",
       "0                0.007222               0.001086                0.217737   \n",
       "1                0.007222               0.001086                0.217737   \n",
       "2                0.007222               0.001086                0.217737   \n",
       "\n",
       "   orientation_rad[1]std            ...              position_ned_m[2]  \\\n",
       "0               0.001777            ...                     -10.847755   \n",
       "1               0.001777            ...                     -10.847402   \n",
       "2               0.001777            ...                     -10.847402   \n",
       "\n",
       "   orientation_rad[0]  orientation_rad[1]  orientation_rad[2]  \\\n",
       "0            0.008737            0.219457            2.741319   \n",
       "1            0.008730            0.219488            2.741317   \n",
       "2            0.008723            0.219464            2.741315   \n",
       "\n",
       "   position_ned_m[0]_scaled  position_ned_m[1]_scaled  \\\n",
       "0                 -1.158167                  1.624317   \n",
       "1                 -1.158372                  1.623672   \n",
       "2                 -1.158372                  1.623672   \n",
       "\n",
       "   position_ned_m[2]_scaled  orientation_rad[0]_scaled  \\\n",
       "0                 -3.570523                   1.395240   \n",
       "1                 -3.570325                   1.388510   \n",
       "2                 -3.570325                   1.381904   \n",
       "\n",
       "   orientation_rad[1]_scaled  orientation_rad[2]_scaled  \n",
       "0                   0.968426                   0.096258  \n",
       "1                   0.985588                   0.096253  \n",
       "2                   0.972619                   0.096247  \n",
       "\n",
       "[3 rows x 26 columns]"
      ]
     },
     "execution_count": 26,
     "metadata": {},
     "output_type": "execute_result"
    }
   ],
   "source": [
    "data_and_agg.loc[(data_and_agg.flight_id == 17459) & (data_and_agg.seconds_since_launch == -5.0)]"
   ]
  },
  {
   "cell_type": "markdown",
   "metadata": {},
   "source": [
    "## 3. Visualize the flight metrics with PCA"
   ]
  },
  {
   "cell_type": "code",
   "execution_count": 27,
   "metadata": {},
   "outputs": [],
   "source": [
    "scaled_fleet_data = data_and_agg[['flight_id',\n",
    "                                  'position_ned_m[0]_scaled', \n",
    "                                 'position_ned_m[1]_scaled', \n",
    "                                 'position_ned_m[2]_scaled', \n",
    "                                 'orientation_rad[0]_scaled', \n",
    "                                 'orientation_rad[1]_scaled', \n",
    "                                 'orientation_rad[2]_scaled']]"
   ]
  },
  {
   "cell_type": "code",
   "execution_count": 28,
   "metadata": {},
   "outputs": [],
   "source": [
    "flight_metrics = scaled_fleet_data.groupby('flight_id').agg(['min', 'max'])"
   ]
  },
  {
   "cell_type": "code",
   "execution_count": 29,
   "metadata": {},
   "outputs": [],
   "source": [
    "pca = PCA(n_components=1, random_state=42)"
   ]
  },
  {
   "cell_type": "code",
   "execution_count": 30,
   "metadata": {},
   "outputs": [
    {
     "data": {
      "text/html": [
       "<div>\n",
       "<style scoped>\n",
       "    .dataframe tbody tr th:only-of-type {\n",
       "        vertical-align: middle;\n",
       "    }\n",
       "\n",
       "    .dataframe tbody tr th {\n",
       "        vertical-align: top;\n",
       "    }\n",
       "\n",
       "    .dataframe thead tr th {\n",
       "        text-align: left;\n",
       "    }\n",
       "\n",
       "    .dataframe thead tr:last-of-type th {\n",
       "        text-align: right;\n",
       "    }\n",
       "</style>\n",
       "<table border=\"1\" class=\"dataframe\">\n",
       "  <thead>\n",
       "    <tr>\n",
       "      <th></th>\n",
       "      <th colspan=\"2\" halign=\"left\">position_ned_m[0]_scaled</th>\n",
       "      <th colspan=\"2\" halign=\"left\">position_ned_m[1]_scaled</th>\n",
       "      <th colspan=\"2\" halign=\"left\">position_ned_m[2]_scaled</th>\n",
       "      <th colspan=\"2\" halign=\"left\">orientation_rad[0]_scaled</th>\n",
       "      <th colspan=\"2\" halign=\"left\">orientation_rad[1]_scaled</th>\n",
       "      <th colspan=\"2\" halign=\"left\">orientation_rad[2]_scaled</th>\n",
       "    </tr>\n",
       "    <tr>\n",
       "      <th></th>\n",
       "      <th>min</th>\n",
       "      <th>max</th>\n",
       "      <th>min</th>\n",
       "      <th>max</th>\n",
       "      <th>min</th>\n",
       "      <th>max</th>\n",
       "      <th>min</th>\n",
       "      <th>max</th>\n",
       "      <th>min</th>\n",
       "      <th>max</th>\n",
       "      <th>min</th>\n",
       "      <th>max</th>\n",
       "    </tr>\n",
       "    <tr>\n",
       "      <th>flight_id</th>\n",
       "      <th></th>\n",
       "      <th></th>\n",
       "      <th></th>\n",
       "      <th></th>\n",
       "      <th></th>\n",
       "      <th></th>\n",
       "      <th></th>\n",
       "      <th></th>\n",
       "      <th></th>\n",
       "      <th></th>\n",
       "      <th></th>\n",
       "      <th></th>\n",
       "    </tr>\n",
       "  </thead>\n",
       "  <tbody>\n",
       "    <tr>\n",
       "      <th>16951</th>\n",
       "      <td>-0.923789</td>\n",
       "      <td>0.821177</td>\n",
       "      <td>-0.376436</td>\n",
       "      <td>1.87768</td>\n",
       "      <td>-1.202257</td>\n",
       "      <td>0.114939</td>\n",
       "      <td>-2.158473</td>\n",
       "      <td>2.251129</td>\n",
       "      <td>-4.596042</td>\n",
       "      <td>0.920131</td>\n",
       "      <td>-0.079459</td>\n",
       "      <td>0.268467</td>\n",
       "    </tr>\n",
       "    <tr>\n",
       "      <th>16952</th>\n",
       "      <td>-0.473083</td>\n",
       "      <td>0.873152</td>\n",
       "      <td>-0.130935</td>\n",
       "      <td>1.60857</td>\n",
       "      <td>-0.863851</td>\n",
       "      <td>0.534604</td>\n",
       "      <td>-1.923303</td>\n",
       "      <td>2.132618</td>\n",
       "      <td>-2.339243</td>\n",
       "      <td>1.312672</td>\n",
       "      <td>0.086127</td>\n",
       "      <td>0.490588</td>\n",
       "    </tr>\n",
       "  </tbody>\n",
       "</table>\n",
       "</div>"
      ],
      "text/plain": [
       "          position_ned_m[0]_scaled           position_ned_m[1]_scaled  \\\n",
       "                               min       max                      min   \n",
       "flight_id                                                               \n",
       "16951                    -0.923789  0.821177                -0.376436   \n",
       "16952                    -0.473083  0.873152                -0.130935   \n",
       "\n",
       "                   position_ned_m[2]_scaled            \\\n",
       "               max                      min       max   \n",
       "flight_id                                               \n",
       "16951      1.87768                -1.202257  0.114939   \n",
       "16952      1.60857                -0.863851  0.534604   \n",
       "\n",
       "          orientation_rad[0]_scaled           orientation_rad[1]_scaled  \\\n",
       "                                min       max                       min   \n",
       "flight_id                                                                 \n",
       "16951                     -2.158473  2.251129                 -4.596042   \n",
       "16952                     -1.923303  2.132618                 -2.339243   \n",
       "\n",
       "                    orientation_rad[2]_scaled            \n",
       "                max                       min       max  \n",
       "flight_id                                                \n",
       "16951      0.920131                 -0.079459  0.268467  \n",
       "16952      1.312672                  0.086127  0.490588  "
      ]
     },
     "execution_count": 30,
     "metadata": {},
     "output_type": "execute_result"
    }
   ],
   "source": [
    "flight_metrics.head(2)"
   ]
  },
  {
   "cell_type": "code",
   "execution_count": 31,
   "metadata": {},
   "outputs": [
    {
     "data": {
      "text/html": [
       "<div>\n",
       "<style scoped>\n",
       "    .dataframe tbody tr th:only-of-type {\n",
       "        vertical-align: middle;\n",
       "    }\n",
       "\n",
       "    .dataframe tbody tr th {\n",
       "        vertical-align: top;\n",
       "    }\n",
       "\n",
       "    .dataframe thead th {\n",
       "        text-align: right;\n",
       "    }\n",
       "</style>\n",
       "<table border=\"1\" class=\"dataframe\">\n",
       "  <thead>\n",
       "    <tr style=\"text-align: right;\">\n",
       "      <th></th>\n",
       "      <th>x1</th>\n",
       "    </tr>\n",
       "    <tr>\n",
       "      <th>flight_id</th>\n",
       "      <th></th>\n",
       "    </tr>\n",
       "  </thead>\n",
       "  <tbody>\n",
       "    <tr>\n",
       "      <th>16951</th>\n",
       "      <td>-0.214492</td>\n",
       "    </tr>\n",
       "    <tr>\n",
       "      <th>16952</th>\n",
       "      <td>-0.565775</td>\n",
       "    </tr>\n",
       "  </tbody>\n",
       "</table>\n",
       "</div>"
      ],
      "text/plain": [
       "                 x1\n",
       "flight_id          \n",
       "16951     -0.214492\n",
       "16952     -0.565775"
      ]
     },
     "execution_count": 31,
     "metadata": {},
     "output_type": "execute_result"
    }
   ],
   "source": [
    "flight_metrics_reduced = pd.DataFrame(index=flight_metrics.index,\n",
    "                                      data=pca.fit_transform(flight_metrics),\n",
    "                                      columns=['x1'])\n",
    "                                  \n",
    "flight_metrics_reduced.head(2)"
   ]
  },
  {
   "cell_type": "code",
   "execution_count": 32,
   "metadata": {},
   "outputs": [
    {
     "data": {
      "text/plain": [
       "position_ned_m[0]_scaled   min    0.236066\n",
       "                           max    0.478396\n",
       "position_ned_m[1]_scaled   min   -0.465154\n",
       "                           max   -0.080024\n",
       "position_ned_m[2]_scaled   min   -0.015084\n",
       "                           max    0.014396\n",
       "orientation_rad[0]_scaled  min   -0.189283\n",
       "                           max    0.241203\n",
       "orientation_rad[1]_scaled  min   -0.062762\n",
       "                           max   -0.011768\n",
       "orientation_rad[2]_scaled  min   -0.454368\n",
       "                           max   -0.433207\n",
       "dtype: float64"
      ]
     },
     "execution_count": 32,
     "metadata": {},
     "output_type": "execute_result"
    }
   ],
   "source": [
    "pd.Series(index=flight_metrics.columns,data=pca.components_[0])"
   ]
  },
  {
   "cell_type": "code",
   "execution_count": 33,
   "metadata": {},
   "outputs": [
    {
     "data": {
      "text/plain": [
       "array([0.40928993])"
      ]
     },
     "execution_count": 33,
     "metadata": {},
     "output_type": "execute_result"
    }
   ],
   "source": [
    "pca.explained_variance_ratio_"
   ]
  },
  {
   "cell_type": "code",
   "execution_count": 34,
   "metadata": {},
   "outputs": [
    {
     "name": "stderr",
     "output_type": "stream",
     "text": [
      "/home/obdsd/Documents/workspace/zipline_tsq/dsth_zip/v36/lib/python3.6/site-packages/IPython/core/display.py:689: UserWarning:\n",
      "\n",
      "Consider using IPython.display.IFrame instead\n",
      "\n"
     ]
    },
    {
     "data": {
      "text/html": [
       "<iframe id=\"igraph\" scrolling=\"no\" style=\"border:none;\" seamless=\"seamless\" src=\"https://plot.ly/~tobys/8.embed\" height=\"525px\" width=\"100%\"></iframe>"
      ],
      "text/plain": [
       "<plotly.tools.PlotlyDisplay object>"
      ]
     },
     "execution_count": 34,
     "metadata": {},
     "output_type": "execute_result"
    }
   ],
   "source": [
    "trace = go.Histogram(x=flight_metrics_reduced.x1)\n",
    "layout = go.Layout(title='x1',\n",
    "                   font=dict(size=22),\n",
    "                  xaxis=dict(\n",
    "        title='X1',\n",
    "    ),\n",
    "    yaxis=dict(\n",
    "        title='Number of flights',\n",
    "    ))\n",
    "fig = go.Figure(data=[trace], layout=layout)\n",
    "py.iplot(fig, filename='pca')"
   ]
  },
  {
   "cell_type": "markdown",
   "metadata": {},
   "source": [
    "## Validation"
   ]
  },
  {
   "cell_type": "code",
   "execution_count": 35,
   "metadata": {},
   "outputs": [
    {
     "data": {
      "text/html": [
       "<div>\n",
       "<style scoped>\n",
       "    .dataframe tbody tr th:only-of-type {\n",
       "        vertical-align: middle;\n",
       "    }\n",
       "\n",
       "    .dataframe tbody tr th {\n",
       "        vertical-align: top;\n",
       "    }\n",
       "\n",
       "    .dataframe thead th {\n",
       "        text-align: right;\n",
       "    }\n",
       "</style>\n",
       "<table border=\"1\" class=\"dataframe\">\n",
       "  <thead>\n",
       "    <tr style=\"text-align: right;\">\n",
       "      <th></th>\n",
       "      <th>x1</th>\n",
       "    </tr>\n",
       "    <tr>\n",
       "      <th>flight_id</th>\n",
       "      <th></th>\n",
       "    </tr>\n",
       "  </thead>\n",
       "  <tbody>\n",
       "    <tr>\n",
       "      <th>17136</th>\n",
       "      <td>21.165091</td>\n",
       "    </tr>\n",
       "    <tr>\n",
       "      <th>17437</th>\n",
       "      <td>20.925103</td>\n",
       "    </tr>\n",
       "    <tr>\n",
       "      <th>17438</th>\n",
       "      <td>20.562772</td>\n",
       "    </tr>\n",
       "    <tr>\n",
       "      <th>17439</th>\n",
       "      <td>20.964209</td>\n",
       "    </tr>\n",
       "  </tbody>\n",
       "</table>\n",
       "</div>"
      ],
      "text/plain": [
       "                  x1\n",
       "flight_id           \n",
       "17136      21.165091\n",
       "17437      20.925103\n",
       "17438      20.562772\n",
       "17439      20.964209"
      ]
     },
     "execution_count": 35,
     "metadata": {},
     "output_type": "execute_result"
    }
   ],
   "source": [
    "strange_flights = flight_metrics_reduced.loc[flight_metrics_reduced.x1 > 15]\n",
    "strange_flights"
   ]
  },
  {
   "cell_type": "code",
   "execution_count": 36,
   "metadata": {
    "scrolled": true
   },
   "outputs": [
    {
     "data": {
      "text/html": [
       "<iframe id=\"igraph\" scrolling=\"no\" style=\"border:none;\" seamless=\"seamless\" src=\"https://plot.ly/~tobys/10.embed\" height=\"525px\" width=\"100%\"></iframe>"
      ],
      "text/plain": [
       "<plotly.tools.PlotlyDisplay object>"
      ]
     },
     "execution_count": 36,
     "metadata": {},
     "output_type": "execute_result"
    }
   ],
   "source": [
    "traces = []\n",
    "for flight_id, x1 in strange_flights.iterrows():\n",
    "    flight_data = hires_flight_data.loc[hires_flight_data.flight_id == flight_id]\n",
    "    temp_trace = go.Scatter3d(x=flight_data['position_ned_m[1]'],\n",
    "                            y=flight_data['position_ned_m[0]'],\n",
    "                            z=flight_data['position_ned_m[2]'] * (-1),\n",
    "                            hovertext = flight_data['seconds_since_launch'],\n",
    "                            mode='lines',\n",
    "                            name=flight_id)\n",
    "    traces.append(temp_trace)\n",
    "layout = go.Layout(title='Trajectory for bad flights')\n",
    "fig = go.Figure(data=traces, layout=layout)\n",
    "py.iplot(fig, filename='trajectory_bad_flights')"
   ]
  },
  {
   "cell_type": "markdown",
   "metadata": {},
   "source": [
    "## What caused the bad flights"
   ]
  },
  {
   "cell_type": "code",
   "execution_count": 37,
   "metadata": {},
   "outputs": [
    {
     "data": {
      "text/html": [
       "<div>\n",
       "<style scoped>\n",
       "    .dataframe tbody tr th:only-of-type {\n",
       "        vertical-align: middle;\n",
       "    }\n",
       "\n",
       "    .dataframe tbody tr th {\n",
       "        vertical-align: top;\n",
       "    }\n",
       "\n",
       "    .dataframe thead th {\n",
       "        text-align: right;\n",
       "    }\n",
       "</style>\n",
       "<table border=\"1\" class=\"dataframe\">\n",
       "  <thead>\n",
       "    <tr style=\"text-align: right;\">\n",
       "      <th></th>\n",
       "      <th>flight_id</th>\n",
       "      <th>x1</th>\n",
       "      <th>air_temperature</th>\n",
       "      <th>battery_serial_number</th>\n",
       "      <th>body_serial_number</th>\n",
       "      <th>commit</th>\n",
       "      <th>launch_airspeed</th>\n",
       "      <th>launch_groundspeed</th>\n",
       "      <th>launch_timestamp</th>\n",
       "      <th>preflight_voltage</th>\n",
       "      <th>rel_humidity</th>\n",
       "      <th>static_pressure</th>\n",
       "      <th>wind_direction</th>\n",
       "      <th>wind_magnitude</th>\n",
       "      <th>wing_serial_number</th>\n",
       "    </tr>\n",
       "  </thead>\n",
       "  <tbody>\n",
       "    <tr>\n",
       "      <th>0</th>\n",
       "      <td>17136</td>\n",
       "      <td>21.165091</td>\n",
       "      <td>18.75</td>\n",
       "      <td>15SPJJJ10027028</td>\n",
       "      <td>577350132840894487</td>\n",
       "      <td>5c504d9a16</td>\n",
       "      <td>31.740801</td>\n",
       "      <td>30.221628</td>\n",
       "      <td>2018-09-11 18:54:21 CAT</td>\n",
       "      <td>32.048248</td>\n",
       "      <td>63.65</td>\n",
       "      <td>80567.424655</td>\n",
       "      <td>129.655238</td>\n",
       "      <td>1.879699</td>\n",
       "      <td>15SPJJJ09043062</td>\n",
       "    </tr>\n",
       "    <tr>\n",
       "      <th>1</th>\n",
       "      <td>17437</td>\n",
       "      <td>20.925103</td>\n",
       "      <td>20.80</td>\n",
       "      <td>15SPJJJ10048030</td>\n",
       "      <td>577350132840857611</td>\n",
       "      <td>5c504d9a16</td>\n",
       "      <td>34.289555</td>\n",
       "      <td>30.468917</td>\n",
       "      <td>2018-09-24 19:25:52 CAT</td>\n",
       "      <td>32.188694</td>\n",
       "      <td>57.00</td>\n",
       "      <td>80543.443320</td>\n",
       "      <td>166.383315</td>\n",
       "      <td>2.801589</td>\n",
       "      <td>15SPJJJ09024061</td>\n",
       "    </tr>\n",
       "    <tr>\n",
       "      <th>2</th>\n",
       "      <td>17438</td>\n",
       "      <td>20.562772</td>\n",
       "      <td>20.90</td>\n",
       "      <td>15SPJJJ10022048</td>\n",
       "      <td>577350132807348254</td>\n",
       "      <td>5c504d9a16</td>\n",
       "      <td>33.892624</td>\n",
       "      <td>29.928555</td>\n",
       "      <td>2018-09-24 19:30:15 CAT</td>\n",
       "      <td>31.989910</td>\n",
       "      <td>55.20</td>\n",
       "      <td>80602.023104</td>\n",
       "      <td>174.511100</td>\n",
       "      <td>2.701217</td>\n",
       "      <td>15SPJJJ09040032</td>\n",
       "    </tr>\n",
       "    <tr>\n",
       "      <th>3</th>\n",
       "      <td>17439</td>\n",
       "      <td>20.964209</td>\n",
       "      <td>21.10</td>\n",
       "      <td>15SPJJJ10023027</td>\n",
       "      <td>577348835962105883</td>\n",
       "      <td>5c504d9a16</td>\n",
       "      <td>33.233994</td>\n",
       "      <td>30.141856</td>\n",
       "      <td>2018-09-24 19:34:41 CAT</td>\n",
       "      <td>32.003956</td>\n",
       "      <td>56.10</td>\n",
       "      <td>80487.580779</td>\n",
       "      <td>179.700111</td>\n",
       "      <td>2.755526</td>\n",
       "      <td>15SPJJJ09019061</td>\n",
       "    </tr>\n",
       "  </tbody>\n",
       "</table>\n",
       "</div>"
      ],
      "text/plain": [
       "   flight_id         x1  air_temperature battery_serial_number  \\\n",
       "0      17136  21.165091            18.75       15SPJJJ10027028   \n",
       "1      17437  20.925103            20.80       15SPJJJ10048030   \n",
       "2      17438  20.562772            20.90       15SPJJJ10022048   \n",
       "3      17439  20.964209            21.10       15SPJJJ10023027   \n",
       "\n",
       "   body_serial_number      commit  launch_airspeed  launch_groundspeed  \\\n",
       "0  577350132840894487  5c504d9a16        31.740801           30.221628   \n",
       "1  577350132840857611  5c504d9a16        34.289555           30.468917   \n",
       "2  577350132807348254  5c504d9a16        33.892624           29.928555   \n",
       "3  577348835962105883  5c504d9a16        33.233994           30.141856   \n",
       "\n",
       "          launch_timestamp  preflight_voltage  rel_humidity  static_pressure  \\\n",
       "0  2018-09-11 18:54:21 CAT          32.048248         63.65     80567.424655   \n",
       "1  2018-09-24 19:25:52 CAT          32.188694         57.00     80543.443320   \n",
       "2  2018-09-24 19:30:15 CAT          31.989910         55.20     80602.023104   \n",
       "3  2018-09-24 19:34:41 CAT          32.003956         56.10     80487.580779   \n",
       "\n",
       "   wind_direction  wind_magnitude wing_serial_number  \n",
       "0      129.655238        1.879699    15SPJJJ09043062  \n",
       "1      166.383315        2.801589    15SPJJJ09024061  \n",
       "2      174.511100        2.701217    15SPJJJ09040032  \n",
       "3      179.700111        2.755526    15SPJJJ09019061  "
      ]
     },
     "execution_count": 37,
     "metadata": {},
     "output_type": "execute_result"
    }
   ],
   "source": [
    "strange_flights_with_info = strange_flights.merge(flight_summaries, on='flight_id', how='inner')\n",
    "strange_flights_with_info"
   ]
  },
  {
   "cell_type": "code",
   "execution_count": 38,
   "metadata": {},
   "outputs": [
    {
     "data": {
      "text/plain": [
       "count    447.000000\n",
       "mean       2.359469\n",
       "std        0.996348\n",
       "min        0.188798\n",
       "25%        1.703303\n",
       "50%        2.307687\n",
       "75%        3.006968\n",
       "max        7.466193\n",
       "Name: wind_magnitude, dtype: float64"
      ]
     },
     "execution_count": 38,
     "metadata": {},
     "output_type": "execute_result"
    }
   ],
   "source": [
    "flight_summaries.wind_magnitude.describe()"
   ]
  },
  {
   "cell_type": "code",
   "execution_count": 39,
   "metadata": {},
   "outputs": [
    {
     "data": {
      "text/plain": [
       "count    447.000000\n",
       "mean      31.976493\n",
       "std        1.759982\n",
       "min       28.027149\n",
       "25%       30.761058\n",
       "50%       31.893215\n",
       "75%       33.198513\n",
       "max       36.929199\n",
       "Name: launch_airspeed, dtype: float64"
      ]
     },
     "execution_count": 39,
     "metadata": {},
     "output_type": "execute_result"
    }
   ],
   "source": [
    "flight_summaries.launch_airspeed.describe()"
   ]
  },
  {
   "cell_type": "code",
   "execution_count": 40,
   "metadata": {},
   "outputs": [
    {
     "data": {
      "text/html": [
       "<div>\n",
       "<style scoped>\n",
       "    .dataframe tbody tr th:only-of-type {\n",
       "        vertical-align: middle;\n",
       "    }\n",
       "\n",
       "    .dataframe tbody tr th {\n",
       "        vertical-align: top;\n",
       "    }\n",
       "\n",
       "    .dataframe thead th {\n",
       "        text-align: right;\n",
       "    }\n",
       "</style>\n",
       "<table border=\"1\" class=\"dataframe\">\n",
       "  <thead>\n",
       "    <tr style=\"text-align: right;\">\n",
       "      <th></th>\n",
       "      <th>flight_id</th>\n",
       "      <th>wind_magnitude</th>\n",
       "      <th>launch_groundspeed</th>\n",
       "      <th>launch_timestamp</th>\n",
       "      <th>commit</th>\n",
       "    </tr>\n",
       "  </thead>\n",
       "  <tbody>\n",
       "    <tr>\n",
       "      <th>0</th>\n",
       "      <td>17136</td>\n",
       "      <td>1.879699</td>\n",
       "      <td>30.221628</td>\n",
       "      <td>2018-09-11 18:54:21 CAT</td>\n",
       "      <td>5c504d9a16</td>\n",
       "    </tr>\n",
       "    <tr>\n",
       "      <th>1</th>\n",
       "      <td>17437</td>\n",
       "      <td>2.801589</td>\n",
       "      <td>30.468917</td>\n",
       "      <td>2018-09-24 19:25:52 CAT</td>\n",
       "      <td>5c504d9a16</td>\n",
       "    </tr>\n",
       "    <tr>\n",
       "      <th>2</th>\n",
       "      <td>17438</td>\n",
       "      <td>2.701217</td>\n",
       "      <td>29.928555</td>\n",
       "      <td>2018-09-24 19:30:15 CAT</td>\n",
       "      <td>5c504d9a16</td>\n",
       "    </tr>\n",
       "    <tr>\n",
       "      <th>3</th>\n",
       "      <td>17439</td>\n",
       "      <td>2.755526</td>\n",
       "      <td>30.141856</td>\n",
       "      <td>2018-09-24 19:34:41 CAT</td>\n",
       "      <td>5c504d9a16</td>\n",
       "    </tr>\n",
       "  </tbody>\n",
       "</table>\n",
       "</div>"
      ],
      "text/plain": [
       "   flight_id  wind_magnitude  launch_groundspeed         launch_timestamp  \\\n",
       "0      17136        1.879699           30.221628  2018-09-11 18:54:21 CAT   \n",
       "1      17437        2.801589           30.468917  2018-09-24 19:25:52 CAT   \n",
       "2      17438        2.701217           29.928555  2018-09-24 19:30:15 CAT   \n",
       "3      17439        2.755526           30.141856  2018-09-24 19:34:41 CAT   \n",
       "\n",
       "       commit  \n",
       "0  5c504d9a16  \n",
       "1  5c504d9a16  \n",
       "2  5c504d9a16  \n",
       "3  5c504d9a16  "
      ]
     },
     "execution_count": 40,
     "metadata": {},
     "output_type": "execute_result"
    }
   ],
   "source": [
    "strange_flights_with_info[['flight_id', 'wind_magnitude', 'launch_groundspeed', 'launch_timestamp', 'commit']]"
   ]
  },
  {
   "cell_type": "markdown",
   "metadata": {},
   "source": [
    "### Seasonality"
   ]
  },
  {
   "cell_type": "code",
   "execution_count": 41,
   "metadata": {},
   "outputs": [],
   "source": [
    "summary_x1 = flight_summaries.merge(flight_metrics_reduced, left_on='flight_id', right_index=True)"
   ]
  },
  {
   "cell_type": "code",
   "execution_count": 42,
   "metadata": {},
   "outputs": [
    {
     "data": {
      "text/html": [
       "<iframe id=\"igraph\" scrolling=\"no\" style=\"border:none;\" seamless=\"seamless\" src=\"https://plot.ly/~tobys/14.embed\" height=\"525px\" width=\"100%\"></iframe>"
      ],
      "text/plain": [
       "<plotly.tools.PlotlyDisplay object>"
      ]
     },
     "execution_count": 42,
     "metadata": {},
     "output_type": "execute_result"
    }
   ],
   "source": [
    "date_trace = go.Scatter(x=summary_x1.launch_timestamp,\n",
    "                          y=summary_x1.x1)\n",
    "layout = go.Layout(title='Flight strangeness vs. Date',\n",
    "                  font=dict(size=12))\n",
    "fig = go.Figure(data=[date_trace], layout=layout)\n",
    "py.iplot(fig, layout=layout, filename='seasonality')"
   ]
  },
  {
   "cell_type": "markdown",
   "metadata": {},
   "source": [
    "## X1 by commit"
   ]
  },
  {
   "cell_type": "code",
   "execution_count": 43,
   "metadata": {},
   "outputs": [
    {
     "data": {
      "text/plain": [
       "array(['5c504d9a16', '4d9468bd3c', '38bf99b15a', '1ecbc27833'],\n",
       "      dtype=object)"
      ]
     },
     "execution_count": 43,
     "metadata": {},
     "output_type": "execute_result"
    }
   ],
   "source": [
    "summary_x1.commit.unique()"
   ]
  },
  {
   "cell_type": "code",
   "execution_count": 44,
   "metadata": {},
   "outputs": [
    {
     "data": {
      "text/html": [
       "<iframe id=\"igraph\" scrolling=\"no\" style=\"border:none;\" seamless=\"seamless\" src=\"https://plot.ly/~tobys/16.embed\" height=\"525px\" width=\"100%\"></iframe>"
      ],
      "text/plain": [
       "<plotly.tools.PlotlyDisplay object>"
      ]
     },
     "execution_count": 44,
     "metadata": {},
     "output_type": "execute_result"
    }
   ],
   "source": [
    "commit_groups = summary_x1.groupby('commit')\n",
    "traces = []\n",
    "for commit, data in commit_groups:\n",
    "    temp_trace = go.Histogram(x=data['x1'],\n",
    "                        name=commit,\n",
    "                              histnorm='percent',\n",
    "                        opacity=0.5)\n",
    "    traces.append(temp_trace)\n",
    "layout = go.Layout(title='X1 vs commit',\n",
    "                   yaxis=dict(title='x1'),\n",
    "                   xaxis=dict(title='percent of flights'),\n",
    "                   font=dict(size=22),\n",
    "                   barmode='overlay')\n",
    "fig = go.Figure(data=traces, layout=layout)\n",
    "py.iplot(fig, filename='commit_group')"
   ]
  },
  {
   "cell_type": "code",
   "execution_count": 45,
   "metadata": {},
   "outputs": [
    {
     "data": {
      "text/plain": [
       "array([[ 0.23606646,  0.47839606, -0.46515372, -0.08002398, -0.01508359,\n",
       "         0.01439605, -0.18928322,  0.24120295, -0.06276212, -0.01176827,\n",
       "        -0.45436781, -0.43320731]])"
      ]
     },
     "execution_count": 45,
     "metadata": {},
     "output_type": "execute_result"
    }
   ],
   "source": [
    "pca.components_"
   ]
  },
  {
   "cell_type": "code",
   "execution_count": null,
   "metadata": {},
   "outputs": [],
   "source": []
  }
 ],
 "metadata": {
  "kernelspec": {
   "display_name": "Python 3",
   "language": "python",
   "name": "python3"
  },
  "language_info": {
   "codemirror_mode": {
    "name": "ipython",
    "version": 3
   },
   "file_extension": ".py",
   "mimetype": "text/x-python",
   "name": "python",
   "nbconvert_exporter": "python",
   "pygments_lexer": "ipython3",
   "version": "3.6.6"
  }
 },
 "nbformat": 4,
 "nbformat_minor": 2
}
