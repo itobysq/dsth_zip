{
 "cells": [
  {
   "cell_type": "markdown",
   "metadata": {},
   "source": [
    "## Objective\n",
    "1. Visualize the launches in an informative way\n",
    "2. Identify any outlier launches that should be reviewed\n",
    "3. Identify any interesting patterns in the data (seasonality, poorly performing parts)"
   ]
  },
  {
   "cell_type": "markdown",
   "metadata": {},
   "source": [
    "## 1. Visualize the launches in an informative way\n",
    "- The data contains only 5 seconds prior to 15 seconds after launch\n",
    "- I assume the presuption is that something strange might be happening after the zip is launched\n",
    "- Need to detect outlier launches, which would mean that the distance or speed after the launch is not as high as it could be when one accounts for the wind speed"
   ]
  },
  {
   "cell_type": "markdown",
   "metadata": {},
   "source": [
    "### a. load the data into a single dataframe"
   ]
  },
  {
   "cell_type": "code",
   "execution_count": 18,
   "metadata": {},
   "outputs": [],
   "source": [
    "import pandas as pd\n",
    "import re\n",
    "from glob import glob\n",
    "import yaml\n",
    "\n",
    "import plotly.plotly as py\n",
    "import plotly.graph_objs as go"
   ]
  },
  {
   "cell_type": "code",
   "execution_count": 16,
   "metadata": {},
   "outputs": [],
   "source": [
    "with open('creds.yaml', 'r') as f:\n",
    "    creds = yaml.load(f)"
   ]
  },
  {
   "cell_type": "code",
   "execution_count": 17,
   "metadata": {},
   "outputs": [],
   "source": [
    "import plotly\n",
    "plotly.tools.set_credentials_file(username=creds['plotly']['username'], \n",
    "                                  api_key=creds['plotly']['apikey'])"
   ]
  },
  {
   "cell_type": "code",
   "execution_count": 2,
   "metadata": {},
   "outputs": [],
   "source": [
    "hires_flight_csv = glob('../data/flight*.csv')"
   ]
  },
  {
   "cell_type": "code",
   "execution_count": 3,
   "metadata": {},
   "outputs": [],
   "source": [
    "reg = '../data/flight_(\\d*)'"
   ]
  },
  {
   "cell_type": "code",
   "execution_count": 4,
   "metadata": {},
   "outputs": [],
   "source": [
    "hires_flight_data = pd.DataFrame()\n",
    "for csv in hires_flight_csv:\n",
    "    csv_data = pd.read_csv(csv)\n",
    "    flight_number = re.match(reg, csv).group(1)\n",
    "    csv_data['flight_id'] = int(flight_number)\n",
    "    hires_flight_data = pd.concat([hires_flight_data, csv_data])"
   ]
  },
  {
   "cell_type": "markdown",
   "metadata": {},
   "source": [
    "### b. Check that the range of values for the time after launch is the same\n",
    "- This is important because if the distance traveled is the metric, then the time after the launch needs to be the same"
   ]
  },
  {
   "cell_type": "code",
   "execution_count": 5,
   "metadata": {},
   "outputs": [],
   "source": [
    "max_time_after_launch = hires_flight_data.groupby('flight_id').\\\n",
    "                                          agg({'seconds_since_launch':'max'})"
   ]
  },
  {
   "cell_type": "code",
   "execution_count": 6,
   "metadata": {},
   "outputs": [
    {
     "data": {
      "text/html": [
       "<div>\n",
       "<style scoped>\n",
       "    .dataframe tbody tr th:only-of-type {\n",
       "        vertical-align: middle;\n",
       "    }\n",
       "\n",
       "    .dataframe tbody tr th {\n",
       "        vertical-align: top;\n",
       "    }\n",
       "\n",
       "    .dataframe thead th {\n",
       "        text-align: right;\n",
       "    }\n",
       "</style>\n",
       "<table border=\"1\" class=\"dataframe\">\n",
       "  <thead>\n",
       "    <tr style=\"text-align: right;\">\n",
       "      <th></th>\n",
       "      <th>seconds_since_launch</th>\n",
       "    </tr>\n",
       "  </thead>\n",
       "  <tbody>\n",
       "    <tr>\n",
       "      <th>count</th>\n",
       "      <td>447.000000</td>\n",
       "    </tr>\n",
       "    <tr>\n",
       "      <th>mean</th>\n",
       "      <td>14.995431</td>\n",
       "    </tr>\n",
       "    <tr>\n",
       "      <th>std</th>\n",
       "      <td>0.000100</td>\n",
       "    </tr>\n",
       "    <tr>\n",
       "      <th>min</th>\n",
       "      <td>14.995020</td>\n",
       "    </tr>\n",
       "    <tr>\n",
       "      <th>25%</th>\n",
       "      <td>14.995380</td>\n",
       "    </tr>\n",
       "    <tr>\n",
       "      <th>50%</th>\n",
       "      <td>14.995420</td>\n",
       "    </tr>\n",
       "    <tr>\n",
       "      <th>75%</th>\n",
       "      <td>14.995470</td>\n",
       "    </tr>\n",
       "    <tr>\n",
       "      <th>max</th>\n",
       "      <td>14.996050</td>\n",
       "    </tr>\n",
       "  </tbody>\n",
       "</table>\n",
       "</div>"
      ],
      "text/plain": [
       "       seconds_since_launch\n",
       "count            447.000000\n",
       "mean              14.995431\n",
       "std                0.000100\n",
       "min               14.995020\n",
       "25%               14.995380\n",
       "50%               14.995420\n",
       "75%               14.995470\n",
       "max               14.996050"
      ]
     },
     "execution_count": 6,
     "metadata": {},
     "output_type": "execute_result"
    }
   ],
   "source": [
    "max_time_after_launch.describe()"
   ]
  },
  {
   "cell_type": "markdown",
   "metadata": {},
   "source": [
    "It looks like almost all of the data has a datapoint within one one hunderedth of the 15 second mark. This will make it easy to compare one flight with another."
   ]
  },
  {
   "cell_type": "markdown",
   "metadata": {},
   "source": [
    "One metric that could be important is the velocity after 15 seconds. This metric would be important if every flight was relatively straight. Plot the positions for a random set of flights "
   ]
  },
  {
   "cell_type": "markdown",
   "metadata": {},
   "source": [
    "### c. Plot the path of a sample of planes"
   ]
  },
  {
   "cell_type": "code",
   "execution_count": 7,
   "metadata": {},
   "outputs": [],
   "source": [
    "flight_summaries = pd.read_csv('../data/summary_data.csv')"
   ]
  },
  {
   "cell_type": "code",
   "execution_count": 8,
   "metadata": {},
   "outputs": [],
   "source": [
    "flight_sample = flight_summaries.sample(n=10, random_state=42)"
   ]
  },
  {
   "cell_type": "code",
   "execution_count": 9,
   "metadata": {},
   "outputs": [
    {
     "data": {
      "text/plain": [
       "Index(['seconds_since_launch', 'position_ned_m[0]', 'position_ned_m[1]',\n",
       "       'position_ned_m[2]', 'velocity_ned_mps[0]', 'velocity_ned_mps[1]',\n",
       "       'velocity_ned_mps[2]', 'accel_body_mps2[0]', 'accel_body_mps2[1]',\n",
       "       'accel_body_mps2[2]', 'orientation_rad[0]', 'orientation_rad[1]',\n",
       "       'orientation_rad[2]', 'angular_rate_body_radps[0]',\n",
       "       'angular_rate_body_radps[1]', 'angular_rate_body_radps[2]',\n",
       "       'position_sigma_ned_m[0]', 'position_sigma_ned_m[1]',\n",
       "       'position_sigma_ned_m[2]', 'flight_id'],\n",
       "      dtype='object')"
      ]
     },
     "execution_count": 9,
     "metadata": {},
     "output_type": "execute_result"
    }
   ],
   "source": [
    "hires_flight_data.columns"
   ]
  },
  {
   "cell_type": "code",
   "execution_count": 10,
   "metadata": {},
   "outputs": [
    {
     "data": {
      "text/plain": [
       "{'flight_id'}"
      ]
     },
     "execution_count": 10,
     "metadata": {},
     "output_type": "execute_result"
    }
   ],
   "source": [
    "set(flight_summaries.columns).intersection(set(hires_flight_data.columns))"
   ]
  },
  {
   "cell_type": "code",
   "execution_count": 21,
   "metadata": {},
   "outputs": [
    {
     "data": {
      "text/html": [
       "<div>\n",
       "<style scoped>\n",
       "    .dataframe tbody tr th:only-of-type {\n",
       "        vertical-align: middle;\n",
       "    }\n",
       "\n",
       "    .dataframe tbody tr th {\n",
       "        vertical-align: top;\n",
       "    }\n",
       "\n",
       "    .dataframe thead th {\n",
       "        text-align: right;\n",
       "    }\n",
       "</style>\n",
       "<table border=\"1\" class=\"dataframe\">\n",
       "  <thead>\n",
       "    <tr style=\"text-align: right;\">\n",
       "      <th></th>\n",
       "      <th>flight_id</th>\n",
       "      <th>seconds_since_launch</th>\n",
       "      <th>position_ned_m[0]</th>\n",
       "      <th>position_ned_m[1]</th>\n",
       "      <th>position_ned_m[2]</th>\n",
       "      <th>velocity_ned_mps[0]</th>\n",
       "      <th>velocity_ned_mps[1]</th>\n",
       "      <th>velocity_ned_mps[2]</th>\n",
       "      <th>accel_body_mps2[0]</th>\n",
       "      <th>accel_body_mps2[1]</th>\n",
       "      <th>accel_body_mps2[2]</th>\n",
       "      <th>orientation_rad[0]</th>\n",
       "      <th>orientation_rad[1]</th>\n",
       "      <th>orientation_rad[2]</th>\n",
       "      <th>angular_rate_body_radps[0]</th>\n",
       "      <th>angular_rate_body_radps[1]</th>\n",
       "      <th>angular_rate_body_radps[2]</th>\n",
       "      <th>position_sigma_ned_m[0]</th>\n",
       "      <th>position_sigma_ned_m[1]</th>\n",
       "      <th>position_sigma_ned_m[2]</th>\n",
       "    </tr>\n",
       "  </thead>\n",
       "  <tbody>\n",
       "    <tr>\n",
       "      <th>0</th>\n",
       "      <td>17508</td>\n",
       "      <td>-4.99813</td>\n",
       "      <td>4.511611</td>\n",
       "      <td>7.207816</td>\n",
       "      <td>-3.410138</td>\n",
       "      <td>0.0</td>\n",
       "      <td>0.0</td>\n",
       "      <td>0.0</td>\n",
       "      <td>2.224452</td>\n",
       "      <td>0.016884</td>\n",
       "      <td>-9.503209</td>\n",
       "      <td>0.006961</td>\n",
       "      <td>0.216883</td>\n",
       "      <td>2.740921</td>\n",
       "      <td>-0.000893</td>\n",
       "      <td>0.000388</td>\n",
       "      <td>0.002370</td>\n",
       "      <td>0.144418</td>\n",
       "      <td>0.168294</td>\n",
       "      <td>0.394049</td>\n",
       "    </tr>\n",
       "    <tr>\n",
       "      <th>1</th>\n",
       "      <td>17508</td>\n",
       "      <td>-4.97848</td>\n",
       "      <td>4.508890</td>\n",
       "      <td>7.205891</td>\n",
       "      <td>-3.415132</td>\n",
       "      <td>0.0</td>\n",
       "      <td>0.0</td>\n",
       "      <td>0.0</td>\n",
       "      <td>2.177743</td>\n",
       "      <td>-0.018896</td>\n",
       "      <td>-9.506433</td>\n",
       "      <td>0.006963</td>\n",
       "      <td>0.216905</td>\n",
       "      <td>2.740921</td>\n",
       "      <td>0.002406</td>\n",
       "      <td>-0.004695</td>\n",
       "      <td>0.000523</td>\n",
       "      <td>0.144420</td>\n",
       "      <td>0.168297</td>\n",
       "      <td>0.394055</td>\n",
       "    </tr>\n",
       "  </tbody>\n",
       "</table>\n",
       "</div>"
      ],
      "text/plain": [
       "   flight_id  seconds_since_launch  position_ned_m[0]  position_ned_m[1]  \\\n",
       "0      17508              -4.99813           4.511611           7.207816   \n",
       "1      17508              -4.97848           4.508890           7.205891   \n",
       "\n",
       "   position_ned_m[2]  velocity_ned_mps[0]  velocity_ned_mps[1]  \\\n",
       "0          -3.410138                  0.0                  0.0   \n",
       "1          -3.415132                  0.0                  0.0   \n",
       "\n",
       "   velocity_ned_mps[2]  accel_body_mps2[0]  accel_body_mps2[1]  \\\n",
       "0                  0.0            2.224452            0.016884   \n",
       "1                  0.0            2.177743           -0.018896   \n",
       "\n",
       "   accel_body_mps2[2]  orientation_rad[0]  orientation_rad[1]  \\\n",
       "0           -9.503209            0.006961            0.216883   \n",
       "1           -9.506433            0.006963            0.216905   \n",
       "\n",
       "   orientation_rad[2]  angular_rate_body_radps[0]  angular_rate_body_radps[1]  \\\n",
       "0            2.740921                   -0.000893                    0.000388   \n",
       "1            2.740921                    0.002406                   -0.004695   \n",
       "\n",
       "   angular_rate_body_radps[2]  position_sigma_ned_m[0]  \\\n",
       "0                    0.002370                 0.144418   \n",
       "1                    0.000523                 0.144420   \n",
       "\n",
       "   position_sigma_ned_m[1]  position_sigma_ned_m[2]  \n",
       "0                 0.168294                 0.394049  \n",
       "1                 0.168297                 0.394055  "
      ]
     },
     "execution_count": 21,
     "metadata": {},
     "output_type": "execute_result"
    }
   ],
   "source": [
    "select_flights = flight_sample[['flight_id']].merge(hires_flight_data, \n",
    "                                    how='inner',\n",
    "                                    on='flight_id')\n",
    "select_flights.reset_index\n",
    "select_flights.head(2)"
   ]
  },
  {
   "cell_type": "code",
   "execution_count": 41,
   "metadata": {},
   "outputs": [],
   "source": [
    "coordinates = ['flight_id', 'seconds_since_launch', 'position_ned_m[0]', 'position_ned_m[1]',\n",
    "       'position_ned_m[2]']"
   ]
  },
  {
   "cell_type": "code",
   "execution_count": 43,
   "metadata": {},
   "outputs": [],
   "source": [
    "select_flight_groups = select_flights[coordinates].groupby('flight_id')"
   ]
  },
  {
   "cell_type": "code",
   "execution_count": 45,
   "metadata": {
    "scrolled": false
   },
   "outputs": [
    {
     "data": {
      "text/html": [
       "<iframe id=\"igraph\" scrolling=\"no\" style=\"border:none;\" seamless=\"seamless\" src=\"https://plot.ly/~tobys/6.embed\" height=\"525px\" width=\"100%\"></iframe>"
      ],
      "text/plain": [
       "<plotly.tools.PlotlyDisplay object>"
      ]
     },
     "execution_count": 45,
     "metadata": {},
     "output_type": "execute_result"
    }
   ],
   "source": [
    "traces = []\n",
    "for flight, flight_data in select_flight_groups:\n",
    "    temp_trace = go.Scatter3d(x=flight_data['position_ned_m[1]'],\n",
    "                            y=flight_data['position_ned_m[0]'],\n",
    "                            z=flight_data['position_ned_m[2]'] * (-1),\n",
    "                            hovertext = flight_data['seconds_since_launch'],\n",
    "                            mode='lines',\n",
    "                            name=flight)\n",
    "    traces.append(temp_trace)\n",
    "py.iplot(traces, filename='trajectory')"
   ]
  },
  {
   "cell_type": "markdown",
   "metadata": {},
   "source": [
    "It looks like the flights are primarly along the same XY plane"
   ]
  },
  {
   "cell_type": "code",
   "execution_count": null,
   "metadata": {},
   "outputs": [],
   "source": []
  }
 ],
 "metadata": {
  "kernelspec": {
   "display_name": "Python 3",
   "language": "python",
   "name": "python3"
  },
  "language_info": {
   "codemirror_mode": {
    "name": "ipython",
    "version": 3
   },
   "file_extension": ".py",
   "mimetype": "text/x-python",
   "name": "python",
   "nbconvert_exporter": "python",
   "pygments_lexer": "ipython3",
   "version": "3.6.6"
  }
 },
 "nbformat": 4,
 "nbformat_minor": 2
}
